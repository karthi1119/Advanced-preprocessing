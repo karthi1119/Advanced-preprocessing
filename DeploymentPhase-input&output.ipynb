{
 "cells": [
  {
   "cell_type": "code",
   "execution_count": 1,
   "id": "0cb69885-4afa-4cc1-9c31-4b7426b3b1b8",
   "metadata": {},
   "outputs": [],
   "source": [
    "import pickle"
   ]
  },
  {
   "cell_type": "code",
   "execution_count": 2,
   "id": "5eceb32f-32c9-4543-948a-bfd567e8cb96",
   "metadata": {},
   "outputs": [],
   "source": [
    "import pandas as pd"
   ]
  },
  {
   "cell_type": "code",
   "execution_count": 3,
   "id": "f725a754-53ed-4810-8224-217ab70567b4",
   "metadata": {},
   "outputs": [],
   "source": [
    "dataset=pd.read_csv(\"50_Startups.csv\")\n",
    "dataset\n",
    "dataset=pd.get_dummies(dataset,dtype=int,drop_first= True)\n",
    "dataset\n",
    "dataset.columns\n",
    "independent=dataset[['R&D Spend','Administration','Marketing Spend','State_Florida','State_New York']]\n",
    "dependent=dataset[['Profit']]\n",
    "from sklearn.model_selection import train_test_split\n",
    "x_train,x_test,y_train,y_test=train_test_split(independent,dependent,test_size=0.30,random_state=0)\n",
    "x_train,x_test,y_train,y_test\n",
    "from sklearn.preprocessing import StandardScaler\n",
    "scx=StandardScaler()\n",
    "x_train1=scx.fit_transform(x_train)\n",
    "x_test1=scx.transform(x_test)\n",
    "scy=StandardScaler()\n",
    "y_train1=scy.fit_transform(y_train)\n",
    "y_test1=scy.transform(y_test)"
   ]
  },
  {
   "cell_type": "code",
   "execution_count": 4,
   "id": "63702de6-ba90-4fe8-a704-a566ca2fa4c8",
   "metadata": {},
   "outputs": [
    {
     "name": "stderr",
     "output_type": "stream",
     "text": [
      "C:\\anaconda3\\Lib\\site-packages\\sklearn\\base.py:439: UserWarning: X does not have valid feature names, but StandardScaler was fitted with feature names\n",
      "  warnings.warn(\n"
     ]
    },
    {
     "data": {
      "text/plain": [
       "array([[16.74711013, -1.74105071, -1.12067245, -0.5       ,  1.30088727]])"
      ]
     },
     "execution_count": 4,
     "metadata": {},
     "output_type": "execute_result"
    }
   ],
   "source": [
    "preinput=scx.transform([[889977,78908,54477,0,1]])\n",
    "preinput"
   ]
  },
  {
   "cell_type": "code",
   "execution_count": 5,
   "id": "7e5e88e7-29e9-49e8-a878-9dfc29cd8252",
   "metadata": {},
   "outputs": [],
   "source": [
    "loaded_model=pickle.load(open(\"finalized_model_svr_inout.sav\",'rb'))"
   ]
  },
  {
   "cell_type": "code",
   "execution_count": 6,
   "id": "e8c0aa38-abb4-421a-bcd0-4a8cedaffd33",
   "metadata": {},
   "outputs": [
    {
     "data": {
      "text/plain": [
       "array([0.01605602])"
      ]
     },
     "execution_count": 6,
     "metadata": {},
     "output_type": "execute_result"
    }
   ],
   "source": [
    "result=loaded_model.predict([[889977,78908,54477,0,1]])\n",
    "result"
   ]
  },
  {
   "cell_type": "code",
   "execution_count": 7,
   "id": "e5817abf-df97-4ded-b2d6-c80f13f24ba5",
   "metadata": {},
   "outputs": [
    {
     "data": {
      "text/plain": [
       "array([[110915.93435956]])"
      ]
     },
     "execution_count": 7,
     "metadata": {},
     "output_type": "execute_result"
    }
   ],
   "source": [
    "preoutput=scy.inverse_transform([result])\n",
    "preoutput"
   ]
  },
  {
   "cell_type": "code",
   "execution_count": null,
   "id": "4e4ea838-7e72-40ef-bc1f-bc0b1d8d5aca",
   "metadata": {},
   "outputs": [],
   "source": []
  }
 ],
 "metadata": {
  "kernelspec": {
   "display_name": "Python 3 (ipykernel)",
   "language": "python",
   "name": "python3"
  },
  "language_info": {
   "codemirror_mode": {
    "name": "ipython",
    "version": 3
   },
   "file_extension": ".py",
   "mimetype": "text/x-python",
   "name": "python",
   "nbconvert_exporter": "python",
   "pygments_lexer": "ipython3",
   "version": "3.11.7"
  }
 },
 "nbformat": 4,
 "nbformat_minor": 5
}
